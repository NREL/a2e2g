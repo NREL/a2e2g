{
 "cells": [
  {
   "cell_type": "markdown",
   "source": [
    "Imports"
   ],
   "metadata": {}
  },
  {
   "cell_type": "code",
   "execution_count": null,
   "source": [
    "# General\n",
    "import pandas as pd\n",
    "import matplotlib.pyplot as plt\n",
    "from datetime import datetime\n",
    "from IPython.display import display\n",
    "\n",
    "# From a2e2g platform\n",
    "from a2e2g import a2e2g # module containing wrappers to different components\n",
    "import a2e2g.modules.market.market as mkrt # market simulator"
   ],
   "outputs": [],
   "metadata": {}
  },
  {
   "cell_type": "markdown",
   "source": [
    "Settings and directories"
   ],
   "metadata": {}
  },
  {
   "cell_type": "code",
   "execution_count": null,
   "source": [
    "# Data storage location\n",
    "data_directory = \"data\"\n",
    "wind_plant = \"staggered_50MW\"\n",
    "\n",
    "# Forecast parameters\n",
    "utc_minus = 6\n",
    "tz_current = 'US/Central'\n",
    "tz_adjust = 18\n",
    "\n",
    "# Data paths (data not stored in github repository)\n",
    "wind_data_file = 'a2e2g/'+data_directory+'/measured/wind_obs_20190801-20200727_v2.csv'\n",
    "hrrr_files = 'a2e2g/'+data_directory+'/forecast/hrrr/*.csv*'\n",
    "\n",
    "# Configure the market parameters\n",
    "startTimeSim = \"2019-09-28\"\n",
    "stopTimeSim = \"2019-09-28\"\n",
    "market_name = \"ERCOT\"\n",
    "# all options for ERCOT [\"HB_SOUTH\",\"HB_NORTH\",\"HB_WEST\", \"HB_BUSAVG\"]\n",
    "bus=\"HB_BUSAVG\""
   ],
   "outputs": [],
   "metadata": {}
  },
  {
   "cell_type": "markdown",
   "source": [
    "Establish main simulation class that will be used to call modules"
   ],
   "metadata": {}
  },
  {
   "cell_type": "code",
   "execution_count": null,
   "source": [
    "sim = a2e2g.a2e2g(data_directory, wind_plant)"
   ],
   "outputs": [],
   "metadata": {}
  },
  {
   "cell_type": "markdown",
   "source": [
    "## Day ahead participation"
   ],
   "metadata": {}
  },
  {
   "cell_type": "markdown",
   "source": [
    "Forecast day ahead atmospheric conditions"
   ],
   "metadata": {}
  },
  {
   "cell_type": "code",
   "execution_count": null,
   "source": [
    "forecast_outputs = sim.forecast(\n",
    "    utc_minus, tz_current, tz_adjust, wind_data_file, hrrr_files, day=startTimeSim\n",
    ")\n",
    "\n",
    "print(\"\\nWind speed:\")\n",
    "display(forecast_outputs[0].head())\n",
    "print(\"\\nWind direction:\")\n",
    "display(forecast_outputs[1].head())\n",
    "\n"
   ],
   "outputs": [],
   "metadata": {}
  },
  {
   "cell_type": "markdown",
   "source": [
    "Estimate day ahead wind plant power production"
   ],
   "metadata": {}
  },
  {
   "cell_type": "code",
   "execution_count": null,
   "source": [
    "floris_outputs = sim.floris_estimation(forecast_outputs, scale_to_MW=True)\n",
    "\n",
    "display(floris_outputs.head())"
   ],
   "outputs": [],
   "metadata": {}
  },
  {
   "cell_type": "markdown",
   "source": [
    "Plot day ahead atmospheric and power forecasts"
   ],
   "metadata": {}
  },
  {
   "cell_type": "code",
   "execution_count": null,
   "source": [
    "fig, ax = plt.subplots(3,1,sharex=True)\n",
    "fig.set_size_inches(10,10)\n",
    "\n",
    "# Wind speed forecast\n",
    "ax[0].set_title(\"Day ahead forecasts\")\n",
    "ax[0].plot(forecast_outputs[0]['Analog Mean'], color='C0')\n",
    "ax[0].fill_between(forecast_outputs[0].index,\n",
    "    forecast_outputs[0]['Analog Mean']+forecast_outputs[0]['Analog Stde'],\n",
    "    forecast_outputs[0]['Analog Mean']-forecast_outputs[0]['Analog Stde'], \n",
    "    color='C0', alpha=0.2)\n",
    "ax[0].set_ylabel('Wind speed [m/s]')\n",
    "\n",
    "# Wind direction forecast\n",
    "ax[1].plot(forecast_outputs[1]['Analog Mean'], color='C0')\n",
    "ax[1].fill_between(forecast_outputs[0].index,\n",
    "    forecast_outputs[1]['Analog Mean']+forecast_outputs[1]['Analog Stde'],\n",
    "    forecast_outputs[1]['Analog Mean']-forecast_outputs[1]['Analog Stde'], \n",
    "    color='C0', alpha=0.2)\n",
    "ax[1].set_ylabel('Wind direction [deg]')\n",
    "\n",
    "# Plot power forecast\n",
    "ax[2].plot(floris_outputs.Time, (floris_outputs.PWR_MEAN), color='C0')\n",
    "ax[2].fill_between(floris_outputs.Time,\n",
    "    (floris_outputs.PWR_MEAN+floris_outputs.PWR_STD),\n",
    "    (floris_outputs.PWR_MEAN-floris_outputs.PWR_STD),\n",
    "    color='C0', alpha=0.2)\n",
    "ax[2].set_ylabel('Plant power [MW]')"
   ],
   "outputs": [],
   "metadata": {}
  },
  {
   "cell_type": "markdown",
   "source": [
    "Participate in the day ahead market"
   ],
   "metadata": {}
  },
  {
   "cell_type": "code",
   "execution_count": null,
   "source": [
    "# Initialize market object\n",
    "market = mkrt.Market(startTimeSim, stopTimeSim, market_name, bus, data_directory=data_directory)\n",
    "dfrt2, dfrt2AS, day_ahead_prices, RTprices = sim.load_price_data(market)\n",
    "\n",
    "# Determine day ahead market bid to make\n",
    "day_ahead_bid = sim.day_ahead_bidding(market, dfrt2, dfrt2AS, floris_outputs)\n",
    "\n",
    "display(day_ahead_bid)"
   ],
   "outputs": [],
   "metadata": {}
  },
  {
   "cell_type": "code",
   "execution_count": null,
   "source": [
    "# use day ahead bid to determine intermediate bid\n",
    "\n",
    "# if gplk error arises, run cell again!\n",
    "\n",
    "intermediate_bid = sim.intermediate_bidding(market, day_ahead_bid, day_ahead_prices)\n",
    "display(intermediate_bid)"
   ],
   "outputs": [],
   "metadata": {}
  },
  {
   "cell_type": "markdown",
   "source": [
    "## Real-time market"
   ],
   "metadata": {}
  },
  {
   "cell_type": "markdown",
   "source": [
    "Generate 5-minute ahead forecasts"
   ],
   "metadata": {}
  },
  {
   "cell_type": "code",
   "execution_count": null,
   "source": [
    "# Atmopsheric forecast (simple persistence)\n",
    "df_st_forecast = sim.short_term_persistence(\n",
    "    wind_data_file, daterange=(startTimeSim,stopTimeSim)\n",
    ")\n",
    "\n",
    "# Power estimate based on atmospheric forecast\n",
    "short_term_power_estimate = sim.floris_deterministic(df_st_forecast, scale_to_MW=True)\n",
    "\n",
    "display(df_st_forecast.head())\n",
    "\n",
    "display(short_term_power_estimate.head())"
   ],
   "outputs": [],
   "metadata": {}
  },
  {
   "cell_type": "markdown",
   "source": [
    "Add real-time forecast signals to plots"
   ],
   "metadata": {}
  },
  {
   "cell_type": "code",
   "execution_count": null,
   "source": [
    "fig, ax = plt.subplots(3,1,sharex=True)\n",
    "fig.set_size_inches(10,10)\n",
    "\n",
    "# Wind speed forecast\n",
    "ax[0].plot(forecast_outputs[0]['Analog Mean'], color='C0', \n",
    "    label='Day ahead')\n",
    "ax[0].fill_between(forecast_outputs[0].index,\n",
    "    forecast_outputs[0]['Analog Mean']+forecast_outputs[0]['Analog Stde'],\n",
    "    forecast_outputs[0]['Analog Mean']-forecast_outputs[0]['Analog Stde'], \n",
    "    color='C0', alpha=0.2)\n",
    "ax[0].plot(df_st_forecast.Time, df_st_forecast.WS, color='red', \n",
    "    label='5 mins ahead')\n",
    "ax[0].set_ylabel('Wind speed [m/s]')\n",
    "ax[0].legend(loc='upper right')\n",
    "\n",
    "# Wind direction\n",
    "ax[1].plot(forecast_outputs[1]['Analog Mean'], color='C0')\n",
    "ax[1].fill_between(forecast_outputs[0].index,\n",
    "    forecast_outputs[1]['Analog Mean']+forecast_outputs[1]['Analog Stde'],\n",
    "    forecast_outputs[1]['Analog Mean']-forecast_outputs[1]['Analog Stde'], \n",
    "    color='C0', alpha=0.2)\n",
    "ax[1].plot(df_st_forecast.Time, df_st_forecast.WD, color='red')\n",
    "ax[1].set_ylabel('Wind direction [deg]')\n",
    "\n",
    "# Power\n",
    "ax[2].plot(floris_outputs.Time, (floris_outputs.PWR_MEAN), color='C0')\n",
    "ax[2].fill_between(floris_outputs.Time,\n",
    "    (floris_outputs.PWR_MEAN+floris_outputs.PWR_STD),\n",
    "    (floris_outputs.PWR_MEAN-floris_outputs.PWR_STD),\n",
    "    color='C0', alpha=0.2)\n",
    "ax[2].plot(short_term_power_estimate.Time, (short_term_power_estimate.PWR_MEAN), \n",
    "    color='red')\n",
    "ax[2].set_ylabel('Plant power [MW]')"
   ],
   "outputs": [],
   "metadata": {}
  },
  {
   "cell_type": "markdown",
   "source": [
    "Participate in real-time market"
   ],
   "metadata": {}
  },
  {
   "cell_type": "code",
   "execution_count": null,
   "source": [
    "RTbid, df_RT_result = sim.real_time_AGC_signal(\n",
    "    market, intermediate_bid, short_term_power_estimate\n",
    ")\n",
    "\n",
    "df_RT_result = market.real_time_market_simulation(df_RT_result, RTbid, RTprices)\n",
    "\n",
    "display(df_RT_result.head())"
   ],
   "outputs": [],
   "metadata": {}
  },
  {
   "cell_type": "markdown",
   "source": [
    "## Real-time plant operation"
   ],
   "metadata": {}
  },
  {
   "cell_type": "markdown",
   "source": [
    "Generate AGC signals"
   ],
   "metadata": {}
  },
  {
   "cell_type": "code",
   "execution_count": null,
   "source": [
    "# System-wide signal\n",
    "AGC = market.create_system_regulation_signal(create_AGC=True)\n",
    "\n",
    "# Plant signal\n",
    "AGC = market.create_wind_plant_regulation_signal(AGC, df_RT_result)\n",
    "\n",
    "display(AGC.head())"
   ],
   "outputs": [],
   "metadata": {}
  },
  {
   "cell_type": "markdown",
   "source": [
    "Plot the power signals and AGC signal to follow"
   ],
   "metadata": {}
  },
  {
   "cell_type": "code",
   "execution_count": null,
   "source": [
    "fig, ax = plt.subplots(1,1)\n",
    "fig.set_size_inches(10,4)\n",
    "\n",
    "# Power\n",
    "ax.plot(floris_outputs.Time, (floris_outputs.PWR_MEAN), color='C0',\n",
    "    label='Day ahead')\n",
    "ax.fill_between(floris_outputs.Time,\n",
    "    (floris_outputs.PWR_MEAN+floris_outputs.PWR_STD),\n",
    "    (floris_outputs.PWR_MEAN-floris_outputs.PWR_STD),\n",
    "    color='C0', alpha=0.2)\n",
    "ax.plot(short_term_power_estimate.Time, (short_term_power_estimate.PWR_MEAN), \n",
    "    color='red', label='5 mins ahead')\n",
    "ax.set_ylabel('Plant power [MW]')\n",
    "\n",
    "# Generate time data for plot\n",
    "agc_times = pd.date_range(\n",
    "    df_st_forecast.Time.iloc[0]-pd.Timedelta(5, 'm'),\n",
    "    df_st_forecast.Time.iloc[-1]-pd.Timedelta(4, 's'), \n",
    "    freq='4s'\n",
    ")\n",
    "AGC['time'] = agc_times\n",
    "ax.plot(AGC.time, AGC['Basepoint signal'], label='AGC', color=\"black\")\n",
    "ax.legend()\n",
    "\n",
    "# Trim down to point of interest\n",
    "ax.set_xlim([datetime(2019, 9, 28, 5, 45), datetime(2019, 9, 28, 6, 15)])\n"
   ],
   "outputs": [],
   "metadata": {}
  },
  {
   "cell_type": "markdown",
   "source": [
    "Simulate control actions"
   ],
   "metadata": {}
  },
  {
   "cell_type": "code",
   "execution_count": null,
   "source": [
    "# Load a test simultion wind case\n",
    "df_wind = sim.load_test_winds(wind_data_file, daterange=(startTimeSim,stopTimeSim))\n",
    "\n",
    "# Limit to short period for demonstrative purposes\n",
    "sim_range = [datetime(2019, 9, 28, 5, 45), datetime(2019, 9, 28, 6, 15)]\n",
    "\n",
    "# Generate controls, simulate using dynamic FLORIS simulator over a short \n",
    "# period with basline power maximizing control ('base') and \n",
    "# error-proportional active wind plant power control ('P').\n",
    "df_sim = sim.simulate_operation(control_cases=['base', 'P'],\n",
    "    df_wind=df_wind, df_AGC_signal=AGC, closed_loop_simulator='FLORIDyn',\n",
    "    sim_range=sim_range, dt=1.0)"
   ],
   "outputs": [],
   "metadata": {}
  },
  {
   "cell_type": "markdown",
   "source": [
    "Plot controller responses"
   ],
   "metadata": {}
  },
  {
   "cell_type": "code",
   "execution_count": null,
   "source": [
    "fig, ax = plt.subplots(1,1)\n",
    "fig.set_size_inches(10,4)\n",
    "\n",
    "# Power forecast\n",
    "ax.plot(floris_outputs.Time, (floris_outputs.PWR_MEAN), color='C0',\n",
    "    label='Day ahead')\n",
    "ax.fill_between(floris_outputs.Time,\n",
    "    (floris_outputs.PWR_MEAN+floris_outputs.PWR_STD),\n",
    "    (floris_outputs.PWR_MEAN-floris_outputs.PWR_STD),\n",
    "    color='C0', alpha=0.2)\n",
    "ax.plot(short_term_power_estimate.Time, (short_term_power_estimate.PWR_MEAN), \n",
    "    color='red', label='5 mins ahead')\n",
    "ax.set_ylabel('Plant power [MW]')\n",
    "\n",
    "# Signal to track\n",
    "ax.plot(AGC.time, AGC['Basepoint signal'], label='AGC', color=\"black\")\n",
    "\n",
    "# Plant power output\n",
    "ax.plot(df_sim.time, df_sim['P_act_base']/1e6, color='blue', label='baseline PMC')\n",
    "ax.plot(df_sim.time, df_sim['P_act_P']/1e6, color='green', label='A2e2g WPPC')\n",
    "ax.legend()\n",
    "\n",
    "# Trim down to point of interest\n",
    "ax.set_xlim(sim_range)"
   ],
   "outputs": [],
   "metadata": {}
  }
 ],
 "metadata": {
  "orig_nbformat": 4,
  "language_info": {
   "name": "python",
   "version": "3.8.12",
   "mimetype": "text/x-python",
   "codemirror_mode": {
    "name": "ipython",
    "version": 3
   },
   "pygments_lexer": "ipython3",
   "nbconvert_exporter": "python",
   "file_extension": ".py"
  },
  "kernelspec": {
   "name": "python3",
   "display_name": "Python 3.8.12 64-bit ('a2e2g-test': conda)"
  },
  "interpreter": {
   "hash": "22bb4755489517441818075b3560177046890c9c041f6ffcdf7e3b99172b5332"
  }
 },
 "nbformat": 4,
 "nbformat_minor": 2
}